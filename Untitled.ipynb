{
 "cells": [
  {
   "cell_type": "code",
   "execution_count": 50,
   "metadata": {},
   "outputs": [],
   "source": [
    "def reverse(string):\n",
    "    \n",
    "    i,j = 0, len(string)-1\n",
    "    \n",
    "    out = [None]*len(string)\n",
    "    \n",
    "    while i <=j:\n",
    "        \n",
    "        out[j],out[i] = string[i],string[j]\n",
    "        \n",
    "        i += 1\n",
    "        j -= 1\n",
    "\n",
    "    return ''.join(out)     "
   ]
  },
  {
   "cell_type": "code",
   "execution_count": 52,
   "metadata": {},
   "outputs": [
    {
     "data": {
      "text/plain": [
       "'htamaK hsanivA'"
      ]
     },
     "execution_count": 52,
     "metadata": {},
     "output_type": "execute_result"
    }
   ],
   "source": [
    "reverse('Avinash Kamath')"
   ]
  },
  {
   "cell_type": "code",
   "execution_count": 96,
   "metadata": {
    "collapsed": true
   },
   "outputs": [],
   "source": [
    "def find(s,arr):\n",
    "    \n",
    "    first,last = 0 , len(arr)\n",
    "    \n",
    "    while len(arr)>1:\n",
    "        \n",
    "        mid = len(arr)//2\n",
    "        print(mid,arr)\n",
    "        if arr[mid] == s:\n",
    "            return True\n",
    "        elif arr[mid] >s:\n",
    "            arr = arr[:mid]\n",
    "        else:\n",
    "            arr = arr[mid:]\n",
    "    return False"
   ]
  },
  {
   "cell_type": "code",
   "execution_count": 97,
   "metadata": {},
   "outputs": [
    {
     "name": "stdout",
     "output_type": "stream",
     "text": [
      "3 [1, 2, 4, 5, 6, 7, 9]\n",
      "1 [1, 2, 4]\n",
      "1 [2, 4]\n"
     ]
    },
    {
     "data": {
      "text/plain": [
       "True"
      ]
     },
     "execution_count": 97,
     "metadata": {},
     "output_type": "execute_result"
    }
   ],
   "source": [
    "find(4,[1,2,4,5,6,7,9])"
   ]
  },
  {
   "cell_type": "code",
   "execution_count": 111,
   "metadata": {
    "collapsed": true
   },
   "outputs": [],
   "source": [
    "def rec_find(s,arr):\n",
    "    \n",
    "    if len(arr) == 0:\n",
    "        return False\n",
    "    else:\n",
    "        mid = len(arr)//2\n",
    "\n",
    "        if arr[mid] == s:\n",
    "            return True\n",
    "        elif arr[mid] > s:\n",
    "            return rec_find(s,arr[:mid])\n",
    "        else:\n",
    "            return rec_find(s,arr[mid+1:])"
   ]
  },
  {
   "cell_type": "code",
   "execution_count": 113,
   "metadata": {},
   "outputs": [
    {
     "data": {
      "text/plain": [
       "True"
      ]
     },
     "execution_count": 113,
     "metadata": {},
     "output_type": "execute_result"
    }
   ],
   "source": [
    "rec_find(4,[1,2,4,5,6,7,9])"
   ]
  },
  {
   "cell_type": "code",
   "execution_count": 165,
   "metadata": {},
   "outputs": [],
   "source": [
    "def bsort(arr):\n",
    "    \n",
    "    swapped = True\n",
    "    \n",
    "    while swapped == True:\n",
    "        swapped = False\n",
    "        i = 0\n",
    "        for i in range(len(arr)-1):\n",
    "            if arr[i] > arr[i+1]:\n",
    "                swapped = True\n",
    "                arr[i],arr[i+1] = arr[i+1],arr[i]\n",
    "                \n",
    "    return arr"
   ]
  },
  {
   "cell_type": "code",
   "execution_count": 166,
   "metadata": {},
   "outputs": [
    {
     "data": {
      "text/plain": [
       "[1, 2, 3, 4, 5, 5, 8, 9]"
      ]
     },
     "execution_count": 166,
     "metadata": {},
     "output_type": "execute_result"
    }
   ],
   "source": [
    "bsort([1,5,3,2,8,9,4,5])"
   ]
  },
  {
   "cell_type": "code",
   "execution_count": 176,
   "metadata": {},
   "outputs": [],
   "source": [
    "def sel_sort(arr):\n",
    "    \n",
    "    for i in range(len(arr)):\n",
    "        \n",
    "        min = arr[i]\n",
    "        \n",
    "        for j in range(i+1,len(arr)):\n",
    "            \n",
    "            if arr[j] < min:\n",
    "                min,arr[j] = arr[j],min\n",
    "        \n",
    "        arr[i] = min\n",
    "    \n",
    "    return arr\n",
    "        "
   ]
  },
  {
   "cell_type": "code",
   "execution_count": 178,
   "metadata": {},
   "outputs": [
    {
     "data": {
      "text/plain": [
       "[1, 2, 3, 4, 5, 8, 9]"
      ]
     },
     "execution_count": 178,
     "metadata": {},
     "output_type": "execute_result"
    }
   ],
   "source": [
    "sel_sort([9,8,2,5,3,4,1])"
   ]
  },
  {
   "cell_type": "code",
   "execution_count": null,
   "metadata": {
    "collapsed": true
   },
   "outputs": [],
   "source": []
  }
 ],
 "metadata": {
  "kernelspec": {
   "display_name": "Python 3",
   "language": "python",
   "name": "python3"
  },
  "language_info": {
   "codemirror_mode": {
    "name": "ipython",
    "version": 3
   },
   "file_extension": ".py",
   "mimetype": "text/x-python",
   "name": "python",
   "nbconvert_exporter": "python",
   "pygments_lexer": "ipython3",
   "version": "3.6.2"
  }
 },
 "nbformat": 4,
 "nbformat_minor": 2
}
